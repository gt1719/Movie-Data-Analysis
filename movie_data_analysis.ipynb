{
 "cells": [
  {
   "cell_type": "markdown",
   "metadata": {},
   "source": [
    "# Movie Data Analysis"
   ]
  },
  {
   "cell_type": "markdown",
   "metadata": {},
   "source": [
    "- Student name: Gamze Turan\n",
    "- Student pace: self paced \n",
    "- Scheduled project review date/time: 4/27/2022\n",
    "- Instructor name: Claude Fried \n",
    "- Blog post URL:https://ginaturan.blogspot.com/"
   ]
  },
  {
   "cell_type": "markdown",
   "metadata": {},
   "source": [
    "![alt text](images/action.jpg)"
   ]
  },
  {
   "cell_type": "markdown",
   "metadata": {},
   "source": [
    "## Overview"
   ]
  },
  {
   "cell_type": "markdown",
   "metadata": {},
   "source": [
    ">This project analysis is determining profitability of a film studio is crucially dependent on picking the right film projects. In order the find the best film project we will find the most popular genres according to our datasets and their profits. Also, another aspect of film projects is their rating. Depending on the case, rating can lower the sales of the movie or totally cross out the movie from existence (Scoot Bowles)."
   ]
  },
  {
   "cell_type": "markdown",
   "metadata": {},
   "source": [
    "## Business Problem"
   ]
  },
  {
   "cell_type": "markdown",
   "metadata": {},
   "source": [
    "![alt text](images/microsoft_studio.jpg)"
   ]
  },
  {
   "cell_type": "markdown",
   "metadata": {},
   "source": [
    "> Microsoft sees all the big companies creating original video content and they want to get in on the fun.Microsoft's new movie studio can use to help decide what type of films to create."
   ]
  },
  {
   "cell_type": "markdown",
   "metadata": {},
   "source": [
    "## Data Understanding"
   ]
  },
  {
   "cell_type": "markdown",
   "metadata": {},
   "source": [
    "<img align=\"left\" width=\"600\" height=\"600\" src='images/hollywood.jpg'>"
   ]
  },
  {
   "cell_type": "markdown",
   "metadata": {},
   "source": [
    "The movie business has large scale of data since they have been over a century. From a selected data files, we will combine them  to determine genres, ratings and profitability."
   ]
  },
  {
   "cell_type": "code",
   "execution_count": 86,
   "metadata": {},
   "outputs": [],
   "source": [
    "import pandas as pd\n",
    "import warnings\n",
    "warnings.filterwarnings('ignore')"
   ]
  },
  {
   "cell_type": "code",
   "execution_count": 87,
   "metadata": {},
   "outputs": [],
   "source": [
    "df_bom_gross = pd.read_csv('data/bom.movie_gross.csv.gz')\n",
    "df_imdb_basics = pd.read_csv('data/imdb.title.basics.csv.gz')\n",
    "df_imdb_rating = pd.read_csv('data/imdb.title.ratings.csv.gz')"
   ]
  },
  {
   "cell_type": "code",
   "execution_count": 88,
   "metadata": {},
   "outputs": [
    {
     "name": "stdout",
     "output_type": "stream",
     "text": [
      "<class 'pandas.core.frame.DataFrame'>\n",
      "RangeIndex: 3387 entries, 0 to 3386\n",
      "Data columns (total 5 columns):\n",
      " #   Column          Non-Null Count  Dtype  \n",
      "---  ------          --------------  -----  \n",
      " 0   title           3387 non-null   object \n",
      " 1   studio          3382 non-null   object \n",
      " 2   domestic_gross  3359 non-null   float64\n",
      " 3   foreign_gross   2037 non-null   object \n",
      " 4   year            3387 non-null   int64  \n",
      "dtypes: float64(1), int64(1), object(3)\n",
      "memory usage: 132.4+ KB\n"
     ]
    }
   ],
   "source": [
    "df_bom_gross.info()"
   ]
  },
  {
   "cell_type": "code",
   "execution_count": 89,
   "metadata": {},
   "outputs": [
    {
     "data": {
      "text/html": [
       "<div>\n",
       "<style scoped>\n",
       "    .dataframe tbody tr th:only-of-type {\n",
       "        vertical-align: middle;\n",
       "    }\n",
       "\n",
       "    .dataframe tbody tr th {\n",
       "        vertical-align: top;\n",
       "    }\n",
       "\n",
       "    .dataframe thead th {\n",
       "        text-align: right;\n",
       "    }\n",
       "</style>\n",
       "<table border=\"1\" class=\"dataframe\">\n",
       "  <thead>\n",
       "    <tr style=\"text-align: right;\">\n",
       "      <th></th>\n",
       "      <th>title</th>\n",
       "      <th>studio</th>\n",
       "      <th>domestic_gross</th>\n",
       "      <th>foreign_gross</th>\n",
       "      <th>year</th>\n",
       "    </tr>\n",
       "  </thead>\n",
       "  <tbody>\n",
       "    <tr>\n",
       "      <th>1809</th>\n",
       "      <td>Child's Pose</td>\n",
       "      <td>Zeit.</td>\n",
       "      <td>97200.0</td>\n",
       "      <td>NaN</td>\n",
       "      <td>2014</td>\n",
       "    </tr>\n",
       "    <tr>\n",
       "      <th>854</th>\n",
       "      <td>Premium Rush</td>\n",
       "      <td>Sony</td>\n",
       "      <td>20300000.0</td>\n",
       "      <td>10800000</td>\n",
       "      <td>2012</td>\n",
       "    </tr>\n",
       "    <tr>\n",
       "      <th>196</th>\n",
       "      <td>Vision</td>\n",
       "      <td>Zeit.</td>\n",
       "      <td>435000.0</td>\n",
       "      <td>4600000</td>\n",
       "      <td>2010</td>\n",
       "    </tr>\n",
       "    <tr>\n",
       "      <th>1692</th>\n",
       "      <td>Rosewater</td>\n",
       "      <td>ORF</td>\n",
       "      <td>3100000.0</td>\n",
       "      <td>NaN</td>\n",
       "      <td>2014</td>\n",
       "    </tr>\n",
       "    <tr>\n",
       "      <th>1717</th>\n",
       "      <td>Tusk</td>\n",
       "      <td>A24</td>\n",
       "      <td>1800000.0</td>\n",
       "      <td>NaN</td>\n",
       "      <td>2014</td>\n",
       "    </tr>\n",
       "  </tbody>\n",
       "</table>\n",
       "</div>"
      ],
      "text/plain": [
       "             title studio  domestic_gross foreign_gross  year\n",
       "1809  Child's Pose  Zeit.         97200.0           NaN  2014\n",
       "854   Premium Rush   Sony      20300000.0      10800000  2012\n",
       "196         Vision  Zeit.        435000.0       4600000  2010\n",
       "1692     Rosewater    ORF       3100000.0           NaN  2014\n",
       "1717          Tusk    A24       1800000.0           NaN  2014"
      ]
     },
     "execution_count": 89,
     "metadata": {},
     "output_type": "execute_result"
    }
   ],
   "source": [
    "df_bom_gross.sample(5)"
   ]
  },
  {
   "cell_type": "code",
   "execution_count": 90,
   "metadata": {},
   "outputs": [
    {
     "name": "stdout",
     "output_type": "stream",
     "text": [
      "<class 'pandas.core.frame.DataFrame'>\n",
      "RangeIndex: 146144 entries, 0 to 146143\n",
      "Data columns (total 6 columns):\n",
      " #   Column           Non-Null Count   Dtype  \n",
      "---  ------           --------------   -----  \n",
      " 0   tconst           146144 non-null  object \n",
      " 1   primary_title    146144 non-null  object \n",
      " 2   original_title   146123 non-null  object \n",
      " 3   start_year       146144 non-null  int64  \n",
      " 4   runtime_minutes  114405 non-null  float64\n",
      " 5   genres           140736 non-null  object \n",
      "dtypes: float64(1), int64(1), object(4)\n",
      "memory usage: 6.7+ MB\n"
     ]
    }
   ],
   "source": [
    "df_imdb_basics.info()"
   ]
  },
  {
   "cell_type": "code",
   "execution_count": 6,
   "metadata": {},
   "outputs": [
    {
     "data": {
      "text/html": [
       "<div>\n",
       "<style scoped>\n",
       "    .dataframe tbody tr th:only-of-type {\n",
       "        vertical-align: middle;\n",
       "    }\n",
       "\n",
       "    .dataframe tbody tr th {\n",
       "        vertical-align: top;\n",
       "    }\n",
       "\n",
       "    .dataframe thead th {\n",
       "        text-align: right;\n",
       "    }\n",
       "</style>\n",
       "<table border=\"1\" class=\"dataframe\">\n",
       "  <thead>\n",
       "    <tr style=\"text-align: right;\">\n",
       "      <th></th>\n",
       "      <th>tconst</th>\n",
       "      <th>primary_title</th>\n",
       "      <th>original_title</th>\n",
       "      <th>start_year</th>\n",
       "      <th>runtime_minutes</th>\n",
       "      <th>genres</th>\n",
       "    </tr>\n",
       "  </thead>\n",
       "  <tbody>\n",
       "    <tr>\n",
       "      <th>112848</th>\n",
       "      <td>tt6624312</td>\n",
       "      <td>Rodney King</td>\n",
       "      <td>Rodney King</td>\n",
       "      <td>2017</td>\n",
       "      <td>52.0</td>\n",
       "      <td>Drama</td>\n",
       "    </tr>\n",
       "    <tr>\n",
       "      <th>138698</th>\n",
       "      <td>tt8933716</td>\n",
       "      <td>Wedding 93</td>\n",
       "      <td>Wedding 93</td>\n",
       "      <td>2018</td>\n",
       "      <td>71.0</td>\n",
       "      <td>Horror</td>\n",
       "    </tr>\n",
       "    <tr>\n",
       "      <th>97951</th>\n",
       "      <td>tt5720312</td>\n",
       "      <td>Fade to Black</td>\n",
       "      <td>Fade to Black</td>\n",
       "      <td>2016</td>\n",
       "      <td>NaN</td>\n",
       "      <td>Documentary</td>\n",
       "    </tr>\n",
       "    <tr>\n",
       "      <th>85587</th>\n",
       "      <td>tt4953610</td>\n",
       "      <td>Home Video</td>\n",
       "      <td>The Purging Hour</td>\n",
       "      <td>2016</td>\n",
       "      <td>80.0</td>\n",
       "      <td>Drama,Horror,Mystery</td>\n",
       "    </tr>\n",
       "    <tr>\n",
       "      <th>36851</th>\n",
       "      <td>tt2339954</td>\n",
       "      <td>Les six saisons</td>\n",
       "      <td>Les six saisons</td>\n",
       "      <td>2012</td>\n",
       "      <td>51.0</td>\n",
       "      <td>Adventure,Documentary</td>\n",
       "    </tr>\n",
       "  </tbody>\n",
       "</table>\n",
       "</div>"
      ],
      "text/plain": [
       "           tconst    primary_title    original_title  start_year  \\\n",
       "112848  tt6624312      Rodney King       Rodney King        2017   \n",
       "138698  tt8933716       Wedding 93        Wedding 93        2018   \n",
       "97951   tt5720312    Fade to Black     Fade to Black        2016   \n",
       "85587   tt4953610       Home Video  The Purging Hour        2016   \n",
       "36851   tt2339954  Les six saisons   Les six saisons        2012   \n",
       "\n",
       "        runtime_minutes                 genres  \n",
       "112848             52.0                  Drama  \n",
       "138698             71.0                 Horror  \n",
       "97951               NaN            Documentary  \n",
       "85587              80.0   Drama,Horror,Mystery  \n",
       "36851              51.0  Adventure,Documentary  "
      ]
     },
     "execution_count": 6,
     "metadata": {},
     "output_type": "execute_result"
    }
   ],
   "source": [
    "df_imdb_basics.sample(5)"
   ]
  },
  {
   "cell_type": "code",
   "execution_count": 7,
   "metadata": {},
   "outputs": [
    {
     "name": "stdout",
     "output_type": "stream",
     "text": [
      "<class 'pandas.core.frame.DataFrame'>\n",
      "RangeIndex: 73856 entries, 0 to 73855\n",
      "Data columns (total 3 columns):\n",
      " #   Column         Non-Null Count  Dtype  \n",
      "---  ------         --------------  -----  \n",
      " 0   tconst         73856 non-null  object \n",
      " 1   averagerating  73856 non-null  float64\n",
      " 2   numvotes       73856 non-null  int64  \n",
      "dtypes: float64(1), int64(1), object(1)\n",
      "memory usage: 1.7+ MB\n"
     ]
    }
   ],
   "source": [
    "df_imdb_rating.info()"
   ]
  },
  {
   "cell_type": "code",
   "execution_count": 8,
   "metadata": {},
   "outputs": [
    {
     "data": {
      "text/html": [
       "<div>\n",
       "<style scoped>\n",
       "    .dataframe tbody tr th:only-of-type {\n",
       "        vertical-align: middle;\n",
       "    }\n",
       "\n",
       "    .dataframe tbody tr th {\n",
       "        vertical-align: top;\n",
       "    }\n",
       "\n",
       "    .dataframe thead th {\n",
       "        text-align: right;\n",
       "    }\n",
       "</style>\n",
       "<table border=\"1\" class=\"dataframe\">\n",
       "  <thead>\n",
       "    <tr style=\"text-align: right;\">\n",
       "      <th></th>\n",
       "      <th>tconst</th>\n",
       "      <th>averagerating</th>\n",
       "      <th>numvotes</th>\n",
       "    </tr>\n",
       "  </thead>\n",
       "  <tbody>\n",
       "    <tr>\n",
       "      <th>49908</th>\n",
       "      <td>tt2573870</td>\n",
       "      <td>6.1</td>\n",
       "      <td>8</td>\n",
       "    </tr>\n",
       "    <tr>\n",
       "      <th>1067</th>\n",
       "      <td>tt1801098</td>\n",
       "      <td>5.4</td>\n",
       "      <td>175</td>\n",
       "    </tr>\n",
       "    <tr>\n",
       "      <th>29884</th>\n",
       "      <td>tt7041662</td>\n",
       "      <td>7.5</td>\n",
       "      <td>13</td>\n",
       "    </tr>\n",
       "    <tr>\n",
       "      <th>67317</th>\n",
       "      <td>tt6879318</td>\n",
       "      <td>5.5</td>\n",
       "      <td>257</td>\n",
       "    </tr>\n",
       "    <tr>\n",
       "      <th>12736</th>\n",
       "      <td>tt2446318</td>\n",
       "      <td>5.5</td>\n",
       "      <td>252</td>\n",
       "    </tr>\n",
       "  </tbody>\n",
       "</table>\n",
       "</div>"
      ],
      "text/plain": [
       "          tconst  averagerating  numvotes\n",
       "49908  tt2573870            6.1         8\n",
       "1067   tt1801098            5.4       175\n",
       "29884  tt7041662            7.5        13\n",
       "67317  tt6879318            5.5       257\n",
       "12736  tt2446318            5.5       252"
      ]
     },
     "execution_count": 8,
     "metadata": {},
     "output_type": "execute_result"
    }
   ],
   "source": [
    "df_imdb_rating.sample(5)"
   ]
  },
  {
   "cell_type": "markdown",
   "metadata": {},
   "source": [
    "# Bom Movie Data"
   ]
  },
  {
   "cell_type": "code",
   "execution_count": 9,
   "metadata": {},
   "outputs": [
    {
     "data": {
      "text/plain": [
       "False    3387\n",
       "dtype: int64"
      ]
     },
     "execution_count": 9,
     "metadata": {},
     "output_type": "execute_result"
    }
   ],
   "source": [
    "# to check if there are any duplication\n",
    "df_bom_gross.duplicated().value_counts()"
   ]
  },
  {
   "cell_type": "code",
   "execution_count": 10,
   "metadata": {},
   "outputs": [
    {
     "data": {
      "text/plain": [
       "title                0\n",
       "studio               5\n",
       "domestic_gross      28\n",
       "foreign_gross     1350\n",
       "year                 0\n",
       "dtype: int64"
      ]
     },
     "execution_count": 10,
     "metadata": {},
     "output_type": "execute_result"
    }
   ],
   "source": [
    "# NaN values in the datasets\n",
    "df_bom_gross.isna().sum()"
   ]
  },
  {
   "cell_type": "markdown",
   "metadata": {},
   "source": [
    "# Imdb Data"
   ]
  },
  {
   "cell_type": "code",
   "execution_count": 11,
   "metadata": {},
   "outputs": [
    {
     "data": {
      "text/plain": [
       "False    146144\n",
       "dtype: int64"
      ]
     },
     "execution_count": 11,
     "metadata": {},
     "output_type": "execute_result"
    }
   ],
   "source": [
    "df_imdb_basics.duplicated().value_counts()"
   ]
  },
  {
   "cell_type": "code",
   "execution_count": 12,
   "metadata": {},
   "outputs": [
    {
     "data": {
      "text/plain": [
       "tconst                 0\n",
       "primary_title          0\n",
       "original_title        21\n",
       "start_year             0\n",
       "runtime_minutes    31739\n",
       "genres              5408\n",
       "dtype: int64"
      ]
     },
     "execution_count": 12,
     "metadata": {},
     "output_type": "execute_result"
    }
   ],
   "source": [
    "df_imdb_basics.isna().sum()"
   ]
  },
  {
   "cell_type": "code",
   "execution_count": 13,
   "metadata": {},
   "outputs": [
    {
     "data": {
      "text/plain": [
       "False    73856\n",
       "dtype: int64"
      ]
     },
     "execution_count": 13,
     "metadata": {},
     "output_type": "execute_result"
    }
   ],
   "source": [
    "df_imdb_rating.duplicated().value_counts()"
   ]
  },
  {
   "cell_type": "code",
   "execution_count": 14,
   "metadata": {},
   "outputs": [
    {
     "data": {
      "text/plain": [
       "tconst           0\n",
       "averagerating    0\n",
       "numvotes         0\n",
       "dtype: int64"
      ]
     },
     "execution_count": 14,
     "metadata": {},
     "output_type": "execute_result"
    }
   ],
   "source": [
    "df_imdb_rating.isna().sum()"
   ]
  },
  {
   "cell_type": "markdown",
   "metadata": {},
   "source": [
    "# Merge Data"
   ]
  },
  {
   "cell_type": "code",
   "execution_count": 15,
   "metadata": {},
   "outputs": [
    {
     "data": {
      "text/html": [
       "<div>\n",
       "<style scoped>\n",
       "    .dataframe tbody tr th:only-of-type {\n",
       "        vertical-align: middle;\n",
       "    }\n",
       "\n",
       "    .dataframe tbody tr th {\n",
       "        vertical-align: top;\n",
       "    }\n",
       "\n",
       "    .dataframe thead th {\n",
       "        text-align: right;\n",
       "    }\n",
       "</style>\n",
       "<table border=\"1\" class=\"dataframe\">\n",
       "  <thead>\n",
       "    <tr style=\"text-align: right;\">\n",
       "      <th></th>\n",
       "      <th>tconst</th>\n",
       "      <th>primary_title</th>\n",
       "      <th>original_title</th>\n",
       "      <th>start_year</th>\n",
       "      <th>runtime_minutes</th>\n",
       "      <th>genres</th>\n",
       "      <th>averagerating</th>\n",
       "      <th>numvotes</th>\n",
       "    </tr>\n",
       "  </thead>\n",
       "  <tbody>\n",
       "    <tr>\n",
       "      <th>0</th>\n",
       "      <td>tt0063540</td>\n",
       "      <td>Sunghursh</td>\n",
       "      <td>Sunghursh</td>\n",
       "      <td>2013</td>\n",
       "      <td>175.0</td>\n",
       "      <td>Action,Crime,Drama</td>\n",
       "      <td>7.0</td>\n",
       "      <td>77</td>\n",
       "    </tr>\n",
       "    <tr>\n",
       "      <th>1</th>\n",
       "      <td>tt0066787</td>\n",
       "      <td>One Day Before the Rainy Season</td>\n",
       "      <td>Ashad Ka Ek Din</td>\n",
       "      <td>2019</td>\n",
       "      <td>114.0</td>\n",
       "      <td>Biography,Drama</td>\n",
       "      <td>7.2</td>\n",
       "      <td>43</td>\n",
       "    </tr>\n",
       "    <tr>\n",
       "      <th>2</th>\n",
       "      <td>tt0069049</td>\n",
       "      <td>The Other Side of the Wind</td>\n",
       "      <td>The Other Side of the Wind</td>\n",
       "      <td>2018</td>\n",
       "      <td>122.0</td>\n",
       "      <td>Drama</td>\n",
       "      <td>6.9</td>\n",
       "      <td>4517</td>\n",
       "    </tr>\n",
       "    <tr>\n",
       "      <th>3</th>\n",
       "      <td>tt0069204</td>\n",
       "      <td>Sabse Bada Sukh</td>\n",
       "      <td>Sabse Bada Sukh</td>\n",
       "      <td>2018</td>\n",
       "      <td>NaN</td>\n",
       "      <td>Comedy,Drama</td>\n",
       "      <td>6.1</td>\n",
       "      <td>13</td>\n",
       "    </tr>\n",
       "    <tr>\n",
       "      <th>4</th>\n",
       "      <td>tt0100275</td>\n",
       "      <td>The Wandering Soap Opera</td>\n",
       "      <td>La Telenovela Errante</td>\n",
       "      <td>2017</td>\n",
       "      <td>80.0</td>\n",
       "      <td>Comedy,Drama,Fantasy</td>\n",
       "      <td>6.5</td>\n",
       "      <td>119</td>\n",
       "    </tr>\n",
       "    <tr>\n",
       "      <th>...</th>\n",
       "      <td>...</td>\n",
       "      <td>...</td>\n",
       "      <td>...</td>\n",
       "      <td>...</td>\n",
       "      <td>...</td>\n",
       "      <td>...</td>\n",
       "      <td>...</td>\n",
       "      <td>...</td>\n",
       "    </tr>\n",
       "    <tr>\n",
       "      <th>73851</th>\n",
       "      <td>tt9913084</td>\n",
       "      <td>Diabolik sono io</td>\n",
       "      <td>Diabolik sono io</td>\n",
       "      <td>2019</td>\n",
       "      <td>75.0</td>\n",
       "      <td>Documentary</td>\n",
       "      <td>6.2</td>\n",
       "      <td>6</td>\n",
       "    </tr>\n",
       "    <tr>\n",
       "      <th>73852</th>\n",
       "      <td>tt9914286</td>\n",
       "      <td>Sokagin Çocuklari</td>\n",
       "      <td>Sokagin Çocuklari</td>\n",
       "      <td>2019</td>\n",
       "      <td>98.0</td>\n",
       "      <td>Drama,Family</td>\n",
       "      <td>8.7</td>\n",
       "      <td>136</td>\n",
       "    </tr>\n",
       "    <tr>\n",
       "      <th>73853</th>\n",
       "      <td>tt9914642</td>\n",
       "      <td>Albatross</td>\n",
       "      <td>Albatross</td>\n",
       "      <td>2017</td>\n",
       "      <td>NaN</td>\n",
       "      <td>Documentary</td>\n",
       "      <td>8.5</td>\n",
       "      <td>8</td>\n",
       "    </tr>\n",
       "    <tr>\n",
       "      <th>73854</th>\n",
       "      <td>tt9914942</td>\n",
       "      <td>La vida sense la Sara Amat</td>\n",
       "      <td>La vida sense la Sara Amat</td>\n",
       "      <td>2019</td>\n",
       "      <td>NaN</td>\n",
       "      <td>NaN</td>\n",
       "      <td>6.6</td>\n",
       "      <td>5</td>\n",
       "    </tr>\n",
       "    <tr>\n",
       "      <th>73855</th>\n",
       "      <td>tt9916160</td>\n",
       "      <td>Drømmeland</td>\n",
       "      <td>Drømmeland</td>\n",
       "      <td>2019</td>\n",
       "      <td>72.0</td>\n",
       "      <td>Documentary</td>\n",
       "      <td>6.5</td>\n",
       "      <td>11</td>\n",
       "    </tr>\n",
       "  </tbody>\n",
       "</table>\n",
       "<p>73856 rows × 8 columns</p>\n",
       "</div>"
      ],
      "text/plain": [
       "          tconst                    primary_title              original_title  \\\n",
       "0      tt0063540                        Sunghursh                   Sunghursh   \n",
       "1      tt0066787  One Day Before the Rainy Season             Ashad Ka Ek Din   \n",
       "2      tt0069049       The Other Side of the Wind  The Other Side of the Wind   \n",
       "3      tt0069204                  Sabse Bada Sukh             Sabse Bada Sukh   \n",
       "4      tt0100275         The Wandering Soap Opera       La Telenovela Errante   \n",
       "...          ...                              ...                         ...   \n",
       "73851  tt9913084                 Diabolik sono io            Diabolik sono io   \n",
       "73852  tt9914286                Sokagin Çocuklari           Sokagin Çocuklari   \n",
       "73853  tt9914642                        Albatross                   Albatross   \n",
       "73854  tt9914942       La vida sense la Sara Amat  La vida sense la Sara Amat   \n",
       "73855  tt9916160                       Drømmeland                  Drømmeland   \n",
       "\n",
       "       start_year  runtime_minutes                genres  averagerating  \\\n",
       "0            2013            175.0    Action,Crime,Drama            7.0   \n",
       "1            2019            114.0       Biography,Drama            7.2   \n",
       "2            2018            122.0                 Drama            6.9   \n",
       "3            2018              NaN          Comedy,Drama            6.1   \n",
       "4            2017             80.0  Comedy,Drama,Fantasy            6.5   \n",
       "...           ...              ...                   ...            ...   \n",
       "73851        2019             75.0           Documentary            6.2   \n",
       "73852        2019             98.0          Drama,Family            8.7   \n",
       "73853        2017              NaN           Documentary            8.5   \n",
       "73854        2019              NaN                   NaN            6.6   \n",
       "73855        2019             72.0           Documentary            6.5   \n",
       "\n",
       "       numvotes  \n",
       "0            77  \n",
       "1            43  \n",
       "2          4517  \n",
       "3            13  \n",
       "4           119  \n",
       "...         ...  \n",
       "73851         6  \n",
       "73852       136  \n",
       "73853         8  \n",
       "73854         5  \n",
       "73855        11  \n",
       "\n",
       "[73856 rows x 8 columns]"
      ]
     },
     "execution_count": 15,
     "metadata": {},
     "output_type": "execute_result"
    }
   ],
   "source": [
    "# merge basics in rating based on tconst\n",
    "df_merge = pd.merge(df_imdb_basics,df_imdb_rating, on=\"tconst\")\n",
    "df_merge"
   ]
  },
  {
   "cell_type": "code",
   "execution_count": 16,
   "metadata": {},
   "outputs": [
    {
     "data": {
      "text/html": [
       "<div>\n",
       "<style scoped>\n",
       "    .dataframe tbody tr th:only-of-type {\n",
       "        vertical-align: middle;\n",
       "    }\n",
       "\n",
       "    .dataframe tbody tr th {\n",
       "        vertical-align: top;\n",
       "    }\n",
       "\n",
       "    .dataframe thead th {\n",
       "        text-align: right;\n",
       "    }\n",
       "</style>\n",
       "<table border=\"1\" class=\"dataframe\">\n",
       "  <thead>\n",
       "    <tr style=\"text-align: right;\">\n",
       "      <th></th>\n",
       "      <th>primary_title</th>\n",
       "      <th>original_title</th>\n",
       "      <th>start_year</th>\n",
       "      <th>genres</th>\n",
       "      <th>averagerating</th>\n",
       "      <th>numvotes</th>\n",
       "    </tr>\n",
       "  </thead>\n",
       "  <tbody>\n",
       "    <tr>\n",
       "      <th>0</th>\n",
       "      <td>Sunghursh</td>\n",
       "      <td>Sunghursh</td>\n",
       "      <td>2013</td>\n",
       "      <td>Action,Crime,Drama</td>\n",
       "      <td>7.0</td>\n",
       "      <td>77</td>\n",
       "    </tr>\n",
       "    <tr>\n",
       "      <th>1</th>\n",
       "      <td>One Day Before the Rainy Season</td>\n",
       "      <td>Ashad Ka Ek Din</td>\n",
       "      <td>2019</td>\n",
       "      <td>Biography,Drama</td>\n",
       "      <td>7.2</td>\n",
       "      <td>43</td>\n",
       "    </tr>\n",
       "    <tr>\n",
       "      <th>2</th>\n",
       "      <td>The Other Side of the Wind</td>\n",
       "      <td>The Other Side of the Wind</td>\n",
       "      <td>2018</td>\n",
       "      <td>Drama</td>\n",
       "      <td>6.9</td>\n",
       "      <td>4517</td>\n",
       "    </tr>\n",
       "    <tr>\n",
       "      <th>3</th>\n",
       "      <td>Sabse Bada Sukh</td>\n",
       "      <td>Sabse Bada Sukh</td>\n",
       "      <td>2018</td>\n",
       "      <td>Comedy,Drama</td>\n",
       "      <td>6.1</td>\n",
       "      <td>13</td>\n",
       "    </tr>\n",
       "    <tr>\n",
       "      <th>4</th>\n",
       "      <td>The Wandering Soap Opera</td>\n",
       "      <td>La Telenovela Errante</td>\n",
       "      <td>2017</td>\n",
       "      <td>Comedy,Drama,Fantasy</td>\n",
       "      <td>6.5</td>\n",
       "      <td>119</td>\n",
       "    </tr>\n",
       "    <tr>\n",
       "      <th>...</th>\n",
       "      <td>...</td>\n",
       "      <td>...</td>\n",
       "      <td>...</td>\n",
       "      <td>...</td>\n",
       "      <td>...</td>\n",
       "      <td>...</td>\n",
       "    </tr>\n",
       "    <tr>\n",
       "      <th>73851</th>\n",
       "      <td>Diabolik sono io</td>\n",
       "      <td>Diabolik sono io</td>\n",
       "      <td>2019</td>\n",
       "      <td>Documentary</td>\n",
       "      <td>6.2</td>\n",
       "      <td>6</td>\n",
       "    </tr>\n",
       "    <tr>\n",
       "      <th>73852</th>\n",
       "      <td>Sokagin Çocuklari</td>\n",
       "      <td>Sokagin Çocuklari</td>\n",
       "      <td>2019</td>\n",
       "      <td>Drama,Family</td>\n",
       "      <td>8.7</td>\n",
       "      <td>136</td>\n",
       "    </tr>\n",
       "    <tr>\n",
       "      <th>73853</th>\n",
       "      <td>Albatross</td>\n",
       "      <td>Albatross</td>\n",
       "      <td>2017</td>\n",
       "      <td>Documentary</td>\n",
       "      <td>8.5</td>\n",
       "      <td>8</td>\n",
       "    </tr>\n",
       "    <tr>\n",
       "      <th>73854</th>\n",
       "      <td>La vida sense la Sara Amat</td>\n",
       "      <td>La vida sense la Sara Amat</td>\n",
       "      <td>2019</td>\n",
       "      <td>NaN</td>\n",
       "      <td>6.6</td>\n",
       "      <td>5</td>\n",
       "    </tr>\n",
       "    <tr>\n",
       "      <th>73855</th>\n",
       "      <td>Drømmeland</td>\n",
       "      <td>Drømmeland</td>\n",
       "      <td>2019</td>\n",
       "      <td>Documentary</td>\n",
       "      <td>6.5</td>\n",
       "      <td>11</td>\n",
       "    </tr>\n",
       "  </tbody>\n",
       "</table>\n",
       "<p>73856 rows × 6 columns</p>\n",
       "</div>"
      ],
      "text/plain": [
       "                         primary_title              original_title  \\\n",
       "0                            Sunghursh                   Sunghursh   \n",
       "1      One Day Before the Rainy Season             Ashad Ka Ek Din   \n",
       "2           The Other Side of the Wind  The Other Side of the Wind   \n",
       "3                      Sabse Bada Sukh             Sabse Bada Sukh   \n",
       "4             The Wandering Soap Opera       La Telenovela Errante   \n",
       "...                                ...                         ...   \n",
       "73851                 Diabolik sono io            Diabolik sono io   \n",
       "73852                Sokagin Çocuklari           Sokagin Çocuklari   \n",
       "73853                        Albatross                   Albatross   \n",
       "73854       La vida sense la Sara Amat  La vida sense la Sara Amat   \n",
       "73855                       Drømmeland                  Drømmeland   \n",
       "\n",
       "       start_year                genres  averagerating  numvotes  \n",
       "0            2013    Action,Crime,Drama            7.0        77  \n",
       "1            2019       Biography,Drama            7.2        43  \n",
       "2            2018                 Drama            6.9      4517  \n",
       "3            2018          Comedy,Drama            6.1        13  \n",
       "4            2017  Comedy,Drama,Fantasy            6.5       119  \n",
       "...           ...                   ...            ...       ...  \n",
       "73851        2019           Documentary            6.2         6  \n",
       "73852        2019          Drama,Family            8.7       136  \n",
       "73853        2017           Documentary            8.5         8  \n",
       "73854        2019                   NaN            6.6         5  \n",
       "73855        2019           Documentary            6.5        11  \n",
       "\n",
       "[73856 rows x 6 columns]"
      ]
     },
     "execution_count": 16,
     "metadata": {},
     "output_type": "execute_result"
    }
   ],
   "source": [
    "# drop the dublicated info column\n",
    "df_merge = df_merge.drop(['tconst', 'runtime_minutes'], axis=1)\n",
    "df_merge                 "
   ]
  },
  {
   "cell_type": "code",
   "execution_count": 17,
   "metadata": {},
   "outputs": [],
   "source": [
    "# creating a new column called title and its contain the same values from the original title\n",
    "df_merge['title'] = df_merge['original_title']"
   ]
  },
  {
   "cell_type": "code",
   "execution_count": 18,
   "metadata": {},
   "outputs": [
    {
     "data": {
      "text/html": [
       "<div>\n",
       "<style scoped>\n",
       "    .dataframe tbody tr th:only-of-type {\n",
       "        vertical-align: middle;\n",
       "    }\n",
       "\n",
       "    .dataframe tbody tr th {\n",
       "        vertical-align: top;\n",
       "    }\n",
       "\n",
       "    .dataframe thead th {\n",
       "        text-align: right;\n",
       "    }\n",
       "</style>\n",
       "<table border=\"1\" class=\"dataframe\">\n",
       "  <thead>\n",
       "    <tr style=\"text-align: right;\">\n",
       "      <th></th>\n",
       "      <th>title</th>\n",
       "      <th>studio</th>\n",
       "      <th>domestic_gross</th>\n",
       "      <th>foreign_gross</th>\n",
       "      <th>year</th>\n",
       "      <th>primary_title</th>\n",
       "      <th>original_title</th>\n",
       "      <th>start_year</th>\n",
       "      <th>genres</th>\n",
       "      <th>averagerating</th>\n",
       "      <th>numvotes</th>\n",
       "    </tr>\n",
       "  </thead>\n",
       "  <tbody>\n",
       "    <tr>\n",
       "      <th>0</th>\n",
       "      <td>Toy Story 3</td>\n",
       "      <td>BV</td>\n",
       "      <td>415000000.0</td>\n",
       "      <td>652000000</td>\n",
       "      <td>2010</td>\n",
       "      <td>Toy Story 3</td>\n",
       "      <td>Toy Story 3</td>\n",
       "      <td>2010</td>\n",
       "      <td>Adventure,Animation,Comedy</td>\n",
       "      <td>8.3</td>\n",
       "      <td>682218</td>\n",
       "    </tr>\n",
       "    <tr>\n",
       "      <th>1</th>\n",
       "      <td>Inception</td>\n",
       "      <td>WB</td>\n",
       "      <td>292600000.0</td>\n",
       "      <td>535700000</td>\n",
       "      <td>2010</td>\n",
       "      <td>Inception</td>\n",
       "      <td>Inception</td>\n",
       "      <td>2010</td>\n",
       "      <td>Action,Adventure,Sci-Fi</td>\n",
       "      <td>8.8</td>\n",
       "      <td>1841066</td>\n",
       "    </tr>\n",
       "    <tr>\n",
       "      <th>2</th>\n",
       "      <td>Shrek Forever After</td>\n",
       "      <td>P/DW</td>\n",
       "      <td>238700000.0</td>\n",
       "      <td>513900000</td>\n",
       "      <td>2010</td>\n",
       "      <td>Shrek Forever After</td>\n",
       "      <td>Shrek Forever After</td>\n",
       "      <td>2010</td>\n",
       "      <td>Adventure,Animation,Comedy</td>\n",
       "      <td>6.3</td>\n",
       "      <td>167532</td>\n",
       "    </tr>\n",
       "    <tr>\n",
       "      <th>3</th>\n",
       "      <td>The Twilight Saga: Eclipse</td>\n",
       "      <td>Sum.</td>\n",
       "      <td>300500000.0</td>\n",
       "      <td>398000000</td>\n",
       "      <td>2010</td>\n",
       "      <td>The Twilight Saga: Eclipse</td>\n",
       "      <td>The Twilight Saga: Eclipse</td>\n",
       "      <td>2010</td>\n",
       "      <td>Adventure,Drama,Fantasy</td>\n",
       "      <td>5.0</td>\n",
       "      <td>211733</td>\n",
       "    </tr>\n",
       "    <tr>\n",
       "      <th>4</th>\n",
       "      <td>Iron Man 2</td>\n",
       "      <td>Par.</td>\n",
       "      <td>312400000.0</td>\n",
       "      <td>311500000</td>\n",
       "      <td>2010</td>\n",
       "      <td>Iron Man 2</td>\n",
       "      <td>Iron Man 2</td>\n",
       "      <td>2010</td>\n",
       "      <td>Action,Adventure,Sci-Fi</td>\n",
       "      <td>7.0</td>\n",
       "      <td>657690</td>\n",
       "    </tr>\n",
       "    <tr>\n",
       "      <th>...</th>\n",
       "      <td>...</td>\n",
       "      <td>...</td>\n",
       "      <td>...</td>\n",
       "      <td>...</td>\n",
       "      <td>...</td>\n",
       "      <td>...</td>\n",
       "      <td>...</td>\n",
       "      <td>...</td>\n",
       "      <td>...</td>\n",
       "      <td>...</td>\n",
       "      <td>...</td>\n",
       "    </tr>\n",
       "    <tr>\n",
       "      <th>2442</th>\n",
       "      <td>Loving Pablo</td>\n",
       "      <td>Uni.</td>\n",
       "      <td>22000.0</td>\n",
       "      <td>NaN</td>\n",
       "      <td>2018</td>\n",
       "      <td>Loving Pablo</td>\n",
       "      <td>Loving Pablo</td>\n",
       "      <td>2017</td>\n",
       "      <td>Action,Biography,Crime</td>\n",
       "      <td>6.3</td>\n",
       "      <td>13988</td>\n",
       "    </tr>\n",
       "    <tr>\n",
       "      <th>2443</th>\n",
       "      <td>The Escape</td>\n",
       "      <td>IFC</td>\n",
       "      <td>14000.0</td>\n",
       "      <td>NaN</td>\n",
       "      <td>2018</td>\n",
       "      <td>The Escape</td>\n",
       "      <td>The Escape</td>\n",
       "      <td>2017</td>\n",
       "      <td>Drama</td>\n",
       "      <td>5.9</td>\n",
       "      <td>1290</td>\n",
       "    </tr>\n",
       "    <tr>\n",
       "      <th>2444</th>\n",
       "      <td>Souvenir</td>\n",
       "      <td>Strand</td>\n",
       "      <td>11400.0</td>\n",
       "      <td>NaN</td>\n",
       "      <td>2018</td>\n",
       "      <td>Souvenir</td>\n",
       "      <td>Souvenir</td>\n",
       "      <td>2016</td>\n",
       "      <td>Drama,Music,Romance</td>\n",
       "      <td>6.0</td>\n",
       "      <td>823</td>\n",
       "    </tr>\n",
       "    <tr>\n",
       "      <th>2445</th>\n",
       "      <td>Souvenir</td>\n",
       "      <td>Strand</td>\n",
       "      <td>11400.0</td>\n",
       "      <td>NaN</td>\n",
       "      <td>2018</td>\n",
       "      <td>Souvenir</td>\n",
       "      <td>Souvenir</td>\n",
       "      <td>2014</td>\n",
       "      <td>Comedy,Romance</td>\n",
       "      <td>5.9</td>\n",
       "      <td>9</td>\n",
       "    </tr>\n",
       "    <tr>\n",
       "      <th>2446</th>\n",
       "      <td>An Actor Prepares</td>\n",
       "      <td>Grav.</td>\n",
       "      <td>1700.0</td>\n",
       "      <td>NaN</td>\n",
       "      <td>2018</td>\n",
       "      <td>An Actor Prepares</td>\n",
       "      <td>An Actor Prepares</td>\n",
       "      <td>2018</td>\n",
       "      <td>Comedy</td>\n",
       "      <td>5.0</td>\n",
       "      <td>388</td>\n",
       "    </tr>\n",
       "  </tbody>\n",
       "</table>\n",
       "<p>2447 rows × 11 columns</p>\n",
       "</div>"
      ],
      "text/plain": [
       "                           title  studio  domestic_gross foreign_gross  year  \\\n",
       "0                    Toy Story 3      BV     415000000.0     652000000  2010   \n",
       "1                      Inception      WB     292600000.0     535700000  2010   \n",
       "2            Shrek Forever After    P/DW     238700000.0     513900000  2010   \n",
       "3     The Twilight Saga: Eclipse    Sum.     300500000.0     398000000  2010   \n",
       "4                     Iron Man 2    Par.     312400000.0     311500000  2010   \n",
       "...                          ...     ...             ...           ...   ...   \n",
       "2442                Loving Pablo    Uni.         22000.0           NaN  2018   \n",
       "2443                  The Escape     IFC         14000.0           NaN  2018   \n",
       "2444                    Souvenir  Strand         11400.0           NaN  2018   \n",
       "2445                    Souvenir  Strand         11400.0           NaN  2018   \n",
       "2446           An Actor Prepares   Grav.          1700.0           NaN  2018   \n",
       "\n",
       "                   primary_title              original_title  start_year  \\\n",
       "0                    Toy Story 3                 Toy Story 3        2010   \n",
       "1                      Inception                   Inception        2010   \n",
       "2            Shrek Forever After         Shrek Forever After        2010   \n",
       "3     The Twilight Saga: Eclipse  The Twilight Saga: Eclipse        2010   \n",
       "4                     Iron Man 2                  Iron Man 2        2010   \n",
       "...                          ...                         ...         ...   \n",
       "2442                Loving Pablo                Loving Pablo        2017   \n",
       "2443                  The Escape                  The Escape        2017   \n",
       "2444                    Souvenir                    Souvenir        2016   \n",
       "2445                    Souvenir                    Souvenir        2014   \n",
       "2446           An Actor Prepares           An Actor Prepares        2018   \n",
       "\n",
       "                          genres  averagerating  numvotes  \n",
       "0     Adventure,Animation,Comedy            8.3    682218  \n",
       "1        Action,Adventure,Sci-Fi            8.8   1841066  \n",
       "2     Adventure,Animation,Comedy            6.3    167532  \n",
       "3        Adventure,Drama,Fantasy            5.0    211733  \n",
       "4        Action,Adventure,Sci-Fi            7.0    657690  \n",
       "...                          ...            ...       ...  \n",
       "2442      Action,Biography,Crime            6.3     13988  \n",
       "2443                       Drama            5.9      1290  \n",
       "2444         Drama,Music,Romance            6.0       823  \n",
       "2445              Comedy,Romance            5.9         9  \n",
       "2446                      Comedy            5.0       388  \n",
       "\n",
       "[2447 rows x 11 columns]"
      ]
     },
     "execution_count": 18,
     "metadata": {},
     "output_type": "execute_result"
    }
   ],
   "source": [
    "# 2nd merge bom_gross and df_merge based on title\n",
    "df_merge = pd.merge(df_bom_gross, df_merge, on=\"title\", how='inner')\n",
    "df_merge"
   ]
  },
  {
   "cell_type": "code",
   "execution_count": 19,
   "metadata": {},
   "outputs": [
    {
     "name": "stdout",
     "output_type": "stream",
     "text": [
      "<class 'pandas.core.frame.DataFrame'>\n",
      "Int64Index: 2447 entries, 0 to 2446\n",
      "Data columns (total 11 columns):\n",
      " #   Column          Non-Null Count  Dtype  \n",
      "---  ------          --------------  -----  \n",
      " 0   title           2447 non-null   object \n",
      " 1   studio          2444 non-null   object \n",
      " 2   domestic_gross  2429 non-null   float64\n",
      " 3   foreign_gross   1573 non-null   object \n",
      " 4   year            2447 non-null   int64  \n",
      " 5   primary_title   2447 non-null   object \n",
      " 6   original_title  2447 non-null   object \n",
      " 7   start_year      2447 non-null   int64  \n",
      " 8   genres          2443 non-null   object \n",
      " 9   averagerating   2447 non-null   float64\n",
      " 10  numvotes        2447 non-null   int64  \n",
      "dtypes: float64(2), int64(3), object(6)\n",
      "memory usage: 229.4+ KB\n"
     ]
    }
   ],
   "source": [
    "df_merge.info()"
   ]
  },
  {
   "cell_type": "markdown",
   "metadata": {},
   "source": [
    "# Data Cleaning"
   ]
  },
  {
   "cell_type": "code",
   "execution_count": 20,
   "metadata": {},
   "outputs": [
    {
     "data": {
      "text/html": [
       "<div>\n",
       "<style scoped>\n",
       "    .dataframe tbody tr th:only-of-type {\n",
       "        vertical-align: middle;\n",
       "    }\n",
       "\n",
       "    .dataframe tbody tr th {\n",
       "        vertical-align: top;\n",
       "    }\n",
       "\n",
       "    .dataframe thead th {\n",
       "        text-align: right;\n",
       "    }\n",
       "</style>\n",
       "<table border=\"1\" class=\"dataframe\">\n",
       "  <thead>\n",
       "    <tr style=\"text-align: right;\">\n",
       "      <th></th>\n",
       "      <th>title</th>\n",
       "      <th>domestic_gross</th>\n",
       "      <th>foreign_gross</th>\n",
       "      <th>start_year</th>\n",
       "      <th>genres</th>\n",
       "      <th>averagerating</th>\n",
       "      <th>numvotes</th>\n",
       "    </tr>\n",
       "  </thead>\n",
       "  <tbody>\n",
       "    <tr>\n",
       "      <th>1236</th>\n",
       "      <td>The Remaining</td>\n",
       "      <td>1200000.0</td>\n",
       "      <td>NaN</td>\n",
       "      <td>2014</td>\n",
       "      <td>Drama,Horror,Mystery</td>\n",
       "      <td>4.3</td>\n",
       "      <td>6274</td>\n",
       "    </tr>\n",
       "    <tr>\n",
       "      <th>1556</th>\n",
       "      <td>Bombay Velvet</td>\n",
       "      <td>451000.0</td>\n",
       "      <td>NaN</td>\n",
       "      <td>2015</td>\n",
       "      <td>Action,Crime,Drama</td>\n",
       "      <td>5.7</td>\n",
       "      <td>5029</td>\n",
       "    </tr>\n",
       "    <tr>\n",
       "      <th>1196</th>\n",
       "      <td>The Immigrant</td>\n",
       "      <td>2000000.0</td>\n",
       "      <td>3800000</td>\n",
       "      <td>2013</td>\n",
       "      <td>Drama,Romance</td>\n",
       "      <td>6.6</td>\n",
       "      <td>26618</td>\n",
       "    </tr>\n",
       "    <tr>\n",
       "      <th>1988</th>\n",
       "      <td>Coco</td>\n",
       "      <td>209700000.0</td>\n",
       "      <td>597400000</td>\n",
       "      <td>2017</td>\n",
       "      <td>Horror</td>\n",
       "      <td>7.4</td>\n",
       "      <td>35</td>\n",
       "    </tr>\n",
       "    <tr>\n",
       "      <th>1608</th>\n",
       "      <td>The Duke of Burgundy</td>\n",
       "      <td>64500.0</td>\n",
       "      <td>NaN</td>\n",
       "      <td>2014</td>\n",
       "      <td>Drama,Mystery,Romance</td>\n",
       "      <td>6.6</td>\n",
       "      <td>10301</td>\n",
       "    </tr>\n",
       "  </tbody>\n",
       "</table>\n",
       "</div>"
      ],
      "text/plain": [
       "                     title  domestic_gross foreign_gross  start_year  \\\n",
       "1236         The Remaining       1200000.0           NaN        2014   \n",
       "1556         Bombay Velvet        451000.0           NaN        2015   \n",
       "1196         The Immigrant       2000000.0       3800000        2013   \n",
       "1988                  Coco     209700000.0     597400000        2017   \n",
       "1608  The Duke of Burgundy         64500.0           NaN        2014   \n",
       "\n",
       "                     genres  averagerating  numvotes  \n",
       "1236   Drama,Horror,Mystery            4.3      6274  \n",
       "1556     Action,Crime,Drama            5.7      5029  \n",
       "1196          Drama,Romance            6.6     26618  \n",
       "1988                 Horror            7.4        35  \n",
       "1608  Drama,Mystery,Romance            6.6     10301  "
      ]
     },
     "execution_count": 20,
     "metadata": {},
     "output_type": "execute_result"
    }
   ],
   "source": [
    "# drop  column\n",
    "df_merge = df_merge.drop(['studio', 'original_title', 'primary_title', 'year'], axis=1)\n",
    "df_merge.sample(5)"
   ]
  },
  {
   "cell_type": "code",
   "execution_count": 21,
   "metadata": {},
   "outputs": [],
   "source": [
    "# replace the NaN values with median in row\n",
    "df_merge['domestic_gross'].fillna(value=df_merge['domestic_gross'].median(), inplace=True)"
   ]
  },
  {
   "cell_type": "code",
   "execution_count": 22,
   "metadata": {},
   "outputs": [],
   "source": [
    "## replace the NaN values with 0 in row\n",
    "df_merge['foreign_gross'].fillna(value=0, inplace=True)"
   ]
  },
  {
   "cell_type": "code",
   "execution_count": 23,
   "metadata": {},
   "outputs": [],
   "source": [
    "# creating a function to replace str to float and remove \",\"\n",
    "def parsecomma(x):\n",
    "    if type(x)== str:\n",
    "        return float(x.replace(',',''))\n",
    "    else:\n",
    "        return 0"
   ]
  },
  {
   "cell_type": "code",
   "execution_count": 24,
   "metadata": {},
   "outputs": [],
   "source": [
    "# used Transform function to transform values by passing each into parsecomma\n",
    "df_merge['foreign_gross'] = df_merge['foreign_gross'].transform(parsecomma)"
   ]
  },
  {
   "cell_type": "code",
   "execution_count": 25,
   "metadata": {},
   "outputs": [],
   "source": [
    "# turning NaN values into empty strings\n",
    "df_merge.dropna(inplace=True, axis=0)"
   ]
  },
  {
   "cell_type": "code",
   "execution_count": 26,
   "metadata": {},
   "outputs": [
    {
     "name": "stdout",
     "output_type": "stream",
     "text": [
      "<class 'pandas.core.frame.DataFrame'>\n",
      "Int64Index: 2443 entries, 0 to 2446\n",
      "Data columns (total 7 columns):\n",
      " #   Column          Non-Null Count  Dtype  \n",
      "---  ------          --------------  -----  \n",
      " 0   title           2443 non-null   object \n",
      " 1   domestic_gross  2443 non-null   float64\n",
      " 2   foreign_gross   2443 non-null   float64\n",
      " 3   start_year      2443 non-null   int64  \n",
      " 4   genres          2443 non-null   object \n",
      " 5   averagerating   2443 non-null   float64\n",
      " 6   numvotes        2443 non-null   int64  \n",
      "dtypes: float64(3), int64(2), object(2)\n",
      "memory usage: 152.7+ KB\n"
     ]
    }
   ],
   "source": [
    "df_merge.info()"
   ]
  },
  {
   "cell_type": "code",
   "execution_count": 27,
   "metadata": {},
   "outputs": [
    {
     "data": {
      "text/html": [
       "<div>\n",
       "<style scoped>\n",
       "    .dataframe tbody tr th:only-of-type {\n",
       "        vertical-align: middle;\n",
       "    }\n",
       "\n",
       "    .dataframe tbody tr th {\n",
       "        vertical-align: top;\n",
       "    }\n",
       "\n",
       "    .dataframe thead th {\n",
       "        text-align: right;\n",
       "    }\n",
       "</style>\n",
       "<table border=\"1\" class=\"dataframe\">\n",
       "  <thead>\n",
       "    <tr style=\"text-align: right;\">\n",
       "      <th></th>\n",
       "      <th>domestic_gross</th>\n",
       "      <th>foreign_gross</th>\n",
       "      <th>start_year</th>\n",
       "      <th>averagerating</th>\n",
       "      <th>numvotes</th>\n",
       "    </tr>\n",
       "  </thead>\n",
       "  <tbody>\n",
       "    <tr>\n",
       "      <th>count</th>\n",
       "      <td>2.443000e+03</td>\n",
       "      <td>2.443000e+03</td>\n",
       "      <td>2443.000000</td>\n",
       "      <td>2443.000000</td>\n",
       "      <td>2.443000e+03</td>\n",
       "    </tr>\n",
       "    <tr>\n",
       "      <th>mean</th>\n",
       "      <td>3.587207e+07</td>\n",
       "      <td>5.242519e+07</td>\n",
       "      <td>2013.774458</td>\n",
       "      <td>6.405690</td>\n",
       "      <td>7.284939e+04</td>\n",
       "    </tr>\n",
       "    <tr>\n",
       "      <th>std</th>\n",
       "      <td>6.935400e+07</td>\n",
       "      <td>1.185574e+08</td>\n",
       "      <td>2.493786</td>\n",
       "      <td>1.045491</td>\n",
       "      <td>1.346654e+05</td>\n",
       "    </tr>\n",
       "    <tr>\n",
       "      <th>min</th>\n",
       "      <td>1.000000e+02</td>\n",
       "      <td>0.000000e+00</td>\n",
       "      <td>2010.000000</td>\n",
       "      <td>1.600000</td>\n",
       "      <td>5.000000e+00</td>\n",
       "    </tr>\n",
       "    <tr>\n",
       "      <th>25%</th>\n",
       "      <td>3.040000e+05</td>\n",
       "      <td>0.000000e+00</td>\n",
       "      <td>2012.000000</td>\n",
       "      <td>5.800000</td>\n",
       "      <td>3.791000e+03</td>\n",
       "    </tr>\n",
       "    <tr>\n",
       "      <th>50%</th>\n",
       "      <td>5.100000e+06</td>\n",
       "      <td>4.200000e+06</td>\n",
       "      <td>2014.000000</td>\n",
       "      <td>6.500000</td>\n",
       "      <td>2.083100e+04</td>\n",
       "    </tr>\n",
       "    <tr>\n",
       "      <th>75%</th>\n",
       "      <td>4.260000e+07</td>\n",
       "      <td>4.470000e+07</td>\n",
       "      <td>2016.000000</td>\n",
       "      <td>7.100000</td>\n",
       "      <td>8.086100e+04</td>\n",
       "    </tr>\n",
       "    <tr>\n",
       "      <th>max</th>\n",
       "      <td>7.001000e+08</td>\n",
       "      <td>9.464000e+08</td>\n",
       "      <td>2019.000000</td>\n",
       "      <td>9.200000</td>\n",
       "      <td>1.841066e+06</td>\n",
       "    </tr>\n",
       "  </tbody>\n",
       "</table>\n",
       "</div>"
      ],
      "text/plain": [
       "       domestic_gross  foreign_gross   start_year  averagerating      numvotes\n",
       "count    2.443000e+03   2.443000e+03  2443.000000    2443.000000  2.443000e+03\n",
       "mean     3.587207e+07   5.242519e+07  2013.774458       6.405690  7.284939e+04\n",
       "std      6.935400e+07   1.185574e+08     2.493786       1.045491  1.346654e+05\n",
       "min      1.000000e+02   0.000000e+00  2010.000000       1.600000  5.000000e+00\n",
       "25%      3.040000e+05   0.000000e+00  2012.000000       5.800000  3.791000e+03\n",
       "50%      5.100000e+06   4.200000e+06  2014.000000       6.500000  2.083100e+04\n",
       "75%      4.260000e+07   4.470000e+07  2016.000000       7.100000  8.086100e+04\n",
       "max      7.001000e+08   9.464000e+08  2019.000000       9.200000  1.841066e+06"
      ]
     },
     "execution_count": 27,
     "metadata": {},
     "output_type": "execute_result"
    }
   ],
   "source": [
    "df_merge.describe()"
   ]
  },
  {
   "cell_type": "code",
   "execution_count": 28,
   "metadata": {},
   "outputs": [
    {
     "data": {
      "text/html": [
       "<div>\n",
       "<style scoped>\n",
       "    .dataframe tbody tr th:only-of-type {\n",
       "        vertical-align: middle;\n",
       "    }\n",
       "\n",
       "    .dataframe tbody tr th {\n",
       "        vertical-align: top;\n",
       "    }\n",
       "\n",
       "    .dataframe thead th {\n",
       "        text-align: right;\n",
       "    }\n",
       "</style>\n",
       "<table border=\"1\" class=\"dataframe\">\n",
       "  <thead>\n",
       "    <tr style=\"text-align: right;\">\n",
       "      <th></th>\n",
       "      <th>title</th>\n",
       "      <th>domestic_gross</th>\n",
       "      <th>foreign_gross</th>\n",
       "      <th>start_year</th>\n",
       "      <th>genres</th>\n",
       "      <th>averagerating</th>\n",
       "      <th>numvotes</th>\n",
       "    </tr>\n",
       "  </thead>\n",
       "  <tbody>\n",
       "    <tr>\n",
       "      <th>616</th>\n",
       "      <td>The Master</td>\n",
       "      <td>16399999.0</td>\n",
       "      <td>11900000.0</td>\n",
       "      <td>2014</td>\n",
       "      <td>Action,History</td>\n",
       "      <td>4.8</td>\n",
       "      <td>54</td>\n",
       "    </tr>\n",
       "    <tr>\n",
       "      <th>444</th>\n",
       "      <td>The Future</td>\n",
       "      <td>569000.0</td>\n",
       "      <td>0.0</td>\n",
       "      <td>2011</td>\n",
       "      <td>Drama,Fantasy,Romance</td>\n",
       "      <td>6.2</td>\n",
       "      <td>7648</td>\n",
       "    </tr>\n",
       "    <tr>\n",
       "      <th>1978</th>\n",
       "      <td>The Fate of the Furious</td>\n",
       "      <td>226000000.0</td>\n",
       "      <td>1010.0</td>\n",
       "      <td>2017</td>\n",
       "      <td>Action,Crime,Thriller</td>\n",
       "      <td>6.7</td>\n",
       "      <td>179774</td>\n",
       "    </tr>\n",
       "    <tr>\n",
       "      <th>73</th>\n",
       "      <td>Vampires Suck</td>\n",
       "      <td>36700000.0</td>\n",
       "      <td>43900000.0</td>\n",
       "      <td>2010</td>\n",
       "      <td>Comedy</td>\n",
       "      <td>3.4</td>\n",
       "      <td>43984</td>\n",
       "    </tr>\n",
       "    <tr>\n",
       "      <th>1565</th>\n",
       "      <td>Good Kill</td>\n",
       "      <td>316000.0</td>\n",
       "      <td>0.0</td>\n",
       "      <td>2014</td>\n",
       "      <td>Drama,Thriller,War</td>\n",
       "      <td>6.4</td>\n",
       "      <td>21095</td>\n",
       "    </tr>\n",
       "  </tbody>\n",
       "</table>\n",
       "</div>"
      ],
      "text/plain": [
       "                        title  domestic_gross  foreign_gross  start_year  \\\n",
       "616                The Master      16399999.0     11900000.0        2014   \n",
       "444                The Future        569000.0            0.0        2011   \n",
       "1978  The Fate of the Furious     226000000.0         1010.0        2017   \n",
       "73              Vampires Suck      36700000.0     43900000.0        2010   \n",
       "1565                Good Kill        316000.0            0.0        2014   \n",
       "\n",
       "                     genres  averagerating  numvotes  \n",
       "616          Action,History            4.8        54  \n",
       "444   Drama,Fantasy,Romance            6.2      7648  \n",
       "1978  Action,Crime,Thriller            6.7    179774  \n",
       "73                   Comedy            3.4     43984  \n",
       "1565     Drama,Thriller,War            6.4     21095  "
      ]
     },
     "execution_count": 28,
     "metadata": {},
     "output_type": "execute_result"
    }
   ],
   "source": [
    "# sample of final data\n",
    "df_merge.sample(5)"
   ]
  },
  {
   "cell_type": "markdown",
   "metadata": {},
   "source": [
    "# Feature Engineering\n",
    "> I create a total_gross feature to combine domestic and foreign gross to indicate total profit."
   ]
  },
  {
   "cell_type": "code",
   "execution_count": 29,
   "metadata": {},
   "outputs": [
    {
     "data": {
      "text/plain": [
       "0       1.067000e+09\n",
       "1       8.283000e+08\n",
       "2       7.526000e+08\n",
       "3       6.985000e+08\n",
       "4       6.239000e+08\n",
       "            ...     \n",
       "2442    2.200000e+04\n",
       "2443    1.400000e+04\n",
       "2444    1.140000e+04\n",
       "2445    1.140000e+04\n",
       "2446    1.700000e+03\n",
       "Name: total_gross, Length: 2443, dtype: float64"
      ]
     },
     "execution_count": 29,
     "metadata": {},
     "output_type": "execute_result"
    }
   ],
   "source": [
    "df_merge['total_gross'] = df_merge['domestic_gross'] + df_merge['foreign_gross']\n",
    "df_merge['total_gross']"
   ]
  },
  {
   "cell_type": "code",
   "execution_count": 92,
   "metadata": {},
   "outputs": [
    {
     "data": {
      "text/plain": [
       "title                            Toy Story 3\n",
       "domestic_gross                      4.15e+08\n",
       "foreign_gross                       6.52e+08\n",
       "start_year                              2010\n",
       "genres            Adventure,Animation,Comedy\n",
       "averagerating                            8.3\n",
       "numvotes                              682218\n",
       "total_gross                        1.067e+09\n",
       "Name: 0, dtype: object"
      ]
     },
     "execution_count": 92,
     "metadata": {},
     "output_type": "execute_result"
    }
   ],
   "source": [
    "df_merge.iloc[0]"
   ]
  },
  {
   "cell_type": "markdown",
   "metadata": {},
   "source": [
    "> Look at the above cell to see multiple genres appear together in one string. The following cell deals with this."
   ]
  },
  {
   "cell_type": "code",
   "execution_count": 62,
   "metadata": {},
   "outputs": [],
   "source": [
    "# I created genre dictionaries with popularity, count, votes and total_gross.\n",
    "# For visualization to compare genres many different ways\n",
    "genre_count = dict()\n",
    "genre_pop = dict()\n",
    "genre_votes = dict()\n",
    "genre_total_gross = dict()\n",
    "for i, row in df_merge.iterrows():\n",
    "    for genre in row['genres'].split(','):\n",
    "        if not genre in genre_count:\n",
    "            genre_count[genre] = 0\n",
    "            genre_pop[genre] = 0\n",
    "            genre_votes[genre] = 0\n",
    "            genre_total_gross[genre] = 0\n",
    "        genre_count[genre] += 1 \n",
    "        genre_pop[genre] += row[\"averagerating\"]\n",
    "        genre_votes[genre] += row[\"numvotes\"] \n",
    "        genre_total_gross[genre] += row[\"total_gross\"]"
   ]
  },
  {
   "cell_type": "code",
   "execution_count": 63,
   "metadata": {},
   "outputs": [],
   "source": [
    "# converting totals into average totals\n",
    "for genre in genre_count:\n",
    "    genre_pop[genre] /= genre_count[genre]\n",
    "    genre_votes[genre] /= genre_count[genre]\n",
    "    genre_total_gross[genre] /= genre_count[genre]"
   ]
  },
  {
   "cell_type": "code",
   "execution_count": 64,
   "metadata": {},
   "outputs": [
    {
     "data": {
      "text/plain": [
       "{'Adventure': 381,\n",
       " 'Animation': 113,\n",
       " 'Comedy': 791,\n",
       " 'Action': 527,\n",
       " 'Sci-Fi': 128,\n",
       " 'Drama': 1354,\n",
       " 'Fantasy': 135,\n",
       " 'Family': 105,\n",
       " 'Biography': 256,\n",
       " 'History': 99,\n",
       " 'Thriller': 380,\n",
       " 'Romance': 377,\n",
       " 'Horror': 223,\n",
       " 'Mystery': 177,\n",
       " 'Western': 18,\n",
       " 'Crime': 330,\n",
       " 'Documentary': 206,\n",
       " 'Sport': 54,\n",
       " 'War': 30,\n",
       " 'Music': 84,\n",
       " 'Musical': 15,\n",
       " 'News': 4}"
      ]
     },
     "execution_count": 64,
     "metadata": {},
     "output_type": "execute_result"
    }
   ],
   "source": [
    "# checking the number of movies present in each genre.(Note:Movies can be counted in multiple genres)\n",
    "genre_count"
   ]
  },
  {
   "cell_type": "code",
   "execution_count": 65,
   "metadata": {},
   "outputs": [
    {
     "data": {
      "text/plain": [
       "{'Adventure': 173712.3280839895,\n",
       " 'Animation': 108579.03539823009,\n",
       " 'Comedy': 67463.79646017699,\n",
       " 'Action': 141165.4516129032,\n",
       " 'Sci-Fi': 247400.8125,\n",
       " 'Drama': 58108.99704579025,\n",
       " 'Fantasy': 125685.28148148148,\n",
       " 'Family': 53437.0,\n",
       " 'Biography': 65386.5390625,\n",
       " 'History': 53237.48484848485,\n",
       " 'Thriller': 87677.95789473684,\n",
       " 'Romance': 46786.94694960212,\n",
       " 'Horror': 58348.51569506727,\n",
       " 'Mystery': 96940.51412429378,\n",
       " 'Western': 117065.55555555556,\n",
       " 'Crime': 82573.64545454546,\n",
       " 'Documentary': 5782.766990291262,\n",
       " 'Sport': 51640.38888888889,\n",
       " 'War': 27843.633333333335,\n",
       " 'Music': 45609.32142857143,\n",
       " 'Musical': 32385.4,\n",
       " 'News': 306.75}"
      ]
     },
     "execution_count": 65,
     "metadata": {},
     "output_type": "execute_result"
    }
   ],
   "source": [
    "# avg. number of votes given to movies in each genre\n",
    "genre_votes"
   ]
  },
  {
   "cell_type": "code",
   "execution_count": 66,
   "metadata": {},
   "outputs": [
    {
     "data": {
      "text/plain": [
       "{'Adventure': 6.457217847769015,\n",
       " 'Animation': 6.563716814159294,\n",
       " 'Comedy': 6.223767383059421,\n",
       " 'Action': 6.20531309297912,\n",
       " 'Sci-Fi': 6.431250000000004,\n",
       " 'Drama': 6.528508124076822,\n",
       " 'Fantasy': 6.184444444444445,\n",
       " 'Family': 6.167619047619049,\n",
       " 'Biography': 6.98203125,\n",
       " 'History': 6.866666666666666,\n",
       " 'Thriller': 6.083157894736842,\n",
       " 'Romance': 6.303713527851454,\n",
       " 'Horror': 5.633632286995516,\n",
       " 'Mystery': 6.194350282485879,\n",
       " 'Western': 6.511111111111112,\n",
       " 'Crime': 6.400909090909091,\n",
       " 'Documentary': 7.268446601941747,\n",
       " 'Sport': 6.898148148148145,\n",
       " 'War': 6.583333333333333,\n",
       " 'Music': 6.722619047619046,\n",
       " 'Musical': 6.1866666666666665,\n",
       " 'News': 7.1000000000000005}"
      ]
     },
     "execution_count": 66,
     "metadata": {},
     "output_type": "execute_result"
    }
   ],
   "source": [
    "# avg. rating given to movies by genre\n",
    "genre_pop"
   ]
  },
  {
   "cell_type": "code",
   "execution_count": 67,
   "metadata": {},
   "outputs": [],
   "source": [
    "# allows sorted to sort on a index 1\n",
    "import operator"
   ]
  },
  {
   "cell_type": "code",
   "execution_count": 68,
   "metadata": {},
   "outputs": [
    {
     "data": {
      "text/plain": [
       "[('Fantasy', 135),\n",
       " ('Mystery', 177),\n",
       " ('Documentary', 206),\n",
       " ('Horror', 223),\n",
       " ('Biography', 256),\n",
       " ('Crime', 330),\n",
       " ('Romance', 377),\n",
       " ('Thriller', 380),\n",
       " ('Adventure', 381),\n",
       " ('Action', 527),\n",
       " ('Comedy', 791),\n",
       " ('Drama', 1354)]"
      ]
     },
     "execution_count": 68,
     "metadata": {},
     "output_type": "execute_result"
    }
   ],
   "source": [
    "sorted_genre = sorted(genre_count.items(), key=operator.itemgetter(1))[10:]\n",
    "sorted_genre"
   ]
  },
  {
   "cell_type": "markdown",
   "metadata": {},
   "source": [
    " # Analysis"
   ]
  },
  {
   "cell_type": "code",
   "execution_count": 69,
   "metadata": {},
   "outputs": [],
   "source": [
    "import matplotlib\n",
    "import matplotlib.pyplot as plt\n",
    "\n",
    "%matplotlib inline"
   ]
  },
  {
   "cell_type": "markdown",
   "metadata": {},
   "source": [
    "### Popularity of Genres"
   ]
  },
  {
   "cell_type": "markdown",
   "metadata": {},
   "source": [
    "> In below graph comparing Genres using the avarage rating to show which genres are the most popular"
   ]
  },
  {
   "cell_type": "code",
   "execution_count": 94,
   "metadata": {},
   "outputs": [
    {
     "data": {
      "image/png": "[encoded data removed]",
      "text/plain": [
       "<Figure size 720x432 with 1 Axes>"
      ]
     },
     "metadata": {
      "needs_background": "light"
     },
     "output_type": "display_data"
    }
   ],
   "source": [
    "fig, ax = plt.subplots(figsize=(10, 6))\n",
    "\n",
    "# Use plot() function to create a plot using above values\n",
    "ax.bar(range(len(genre_pop)), genre_pop.values(), color=\"green\")\n",
    "ax.set_xticklabels(genre_pop, rotation=75)\n",
    "ax.set_xticks(range(len(genre_pop)))\n",
    "# Add labels for x and y axes\n",
    "ax.set_xlabel('GENRES')\n",
    "ax.set_ylabel('AVG. Rating')\n",
    "\n",
    "# Add a title for the plot\n",
    "ax.set_title('BEST RATED GENRES', fontdict={\"fontsize\":25})\n",
    "# setting scale of the y axis\n",
    "ax.set_ylim((4,8))\n",
    "fig.savefig(\"BEST RATED GENRES.png\")"
   ]
  },
  {
   "cell_type": "markdown",
   "metadata": {},
   "source": [
    "### Profitability in Genres"
   ]
  },
  {
   "cell_type": "markdown",
   "metadata": {},
   "source": [
    "> Below graph is showing which genres are the most profitable."
   ]
  },
  {
   "cell_type": "code",
   "execution_count": 93,
   "metadata": {},
   "outputs": [
    {
     "data": {
      "text/plain": [
       "''"
      ]
     },
     "execution_count": 93,
     "metadata": {},
     "output_type": "execute_result"
    },
    {
     "data": {
      "image/png": "[encoded data removed]",
      "text/plain": [
       "<Figure size 720x432 with 1 Axes>"
      ]
     },
     "metadata": {
      "needs_background": "light"
     },
     "output_type": "display_data"
    }
   ],
   "source": [
    "fig, ax = plt.subplots(figsize=(10, 6))\n",
    "\n",
    "# Use plot() function to create a plot using above values\n",
    "ax.bar(range(len(genre_total_gross)), genre_total_gross.values(), color=\"purple\")\n",
    "ax.set_xticklabels(genre_total_gross, rotation=75)\n",
    "ax.set_xticks(range(len(genre_total_gross)))\n",
    "# Add labels for x and y axes\n",
    "ax.set_xlabel('GENRES')\n",
    "ax.set_ylabel('AVG. TOTAL GROSS')\n",
    "\n",
    "# Add a title for the plot\n",
    "ax.set_title('PROFITABILITY', fontdict={\"fontsize\":25})\n",
    "fig.savefig(\"PROFITABILITY.png\")\n",
    ";"
   ]
  },
  {
   "cell_type": "markdown",
   "metadata": {},
   "source": [
    "### Profitability by Year"
   ]
  },
  {
   "cell_type": "markdown",
   "metadata": {},
   "source": [
    "> Scatter plots is allowing us to see the profitability of every movie across to years. In conclusion more  movies are made in the less profitable region."
   ]
  },
  {
   "cell_type": "code",
   "execution_count": 80,
   "metadata": {},
   "outputs": [
    {
     "data": {
      "text/html": [
       "<div>\n",
       "<style scoped>\n",
       "    .dataframe tbody tr th:only-of-type {\n",
       "        vertical-align: middle;\n",
       "    }\n",
       "\n",
       "    .dataframe tbody tr th {\n",
       "        vertical-align: top;\n",
       "    }\n",
       "\n",
       "    .dataframe thead th {\n",
       "        text-align: right;\n",
       "    }\n",
       "</style>\n",
       "<table border=\"1\" class=\"dataframe\">\n",
       "  <thead>\n",
       "    <tr style=\"text-align: right;\">\n",
       "      <th></th>\n",
       "      <th>title</th>\n",
       "      <th>domestic_gross</th>\n",
       "      <th>foreign_gross</th>\n",
       "      <th>start_year</th>\n",
       "      <th>genres</th>\n",
       "      <th>averagerating</th>\n",
       "      <th>numvotes</th>\n",
       "      <th>total_gross</th>\n",
       "    </tr>\n",
       "  </thead>\n",
       "  <tbody>\n",
       "    <tr>\n",
       "      <th>1324</th>\n",
       "      <td>Avengers: Age of Ultron</td>\n",
       "      <td>459000000.0</td>\n",
       "      <td>946400000.0</td>\n",
       "      <td>2015</td>\n",
       "      <td>Action,Adventure,Sci-Fi</td>\n",
       "      <td>7.3</td>\n",
       "      <td>665594</td>\n",
       "      <td>1.405400e+09</td>\n",
       "    </tr>\n",
       "  </tbody>\n",
       "</table>\n",
       "</div>"
      ],
      "text/plain": [
       "                        title  domestic_gross  foreign_gross  start_year  \\\n",
       "1324  Avengers: Age of Ultron     459000000.0    946400000.0        2015   \n",
       "\n",
       "                       genres  averagerating  numvotes   total_gross  \n",
       "1324  Action,Adventure,Sci-Fi            7.3    665594  1.405400e+09  "
      ]
     },
     "execution_count": 80,
     "metadata": {},
     "output_type": "execute_result"
    }
   ],
   "source": [
    "# Highest grossing movie \n",
    "df_merge[ df_merge[\"total_gross\"] == df_merge[\"total_gross\"].max()]"
   ]
  },
  {
   "cell_type": "code",
   "execution_count": 95,
   "metadata": {},
   "outputs": [
    {
     "data": {
      "text/plain": [
       "''"
      ]
     },
     "execution_count": 95,
     "metadata": {},
     "output_type": "execute_result"
    },
    {
     "data": {
      "image/png": "[encoded data removed]",
      "text/plain": [
       "<Figure size 720x432 with 1 Axes>"
      ]
     },
     "metadata": {
      "needs_background": "light"
     },
     "output_type": "display_data"
    }
   ],
   "source": [
    "fig, ax = plt.subplots(figsize=(10, 6))\n",
    "\n",
    "# Use plot() function to create a plot using above values\n",
    "ax.scatter(df_merge[\"start_year\"], df_merge[\"total_gross\"], color=\"blue\")\n",
    "\n",
    "ax.set_xticks(range(2010, 2020))\n",
    "# Add labels for x and y axes\n",
    "ax.set_xlabel('YEARS')\n",
    "ax.set_ylabel('\\$$ in Billion')\n",
    "\n",
    "# Add a title for the plot\n",
    "ax.set_title('\\$ by YEAR', fontdict={\"fontsize\":25})\n",
    "fig.savefig(\"YEAR.png\")\n",
    ";"
   ]
  },
  {
   "cell_type": "markdown",
   "metadata": {},
   "source": [
    "# Conclusion "
   ]
  },
  {
   "cell_type": "code",
   "execution_count": null,
   "metadata": {},
   "outputs": [],
   "source": []
  }
 ],
 "metadata": {
  "kernelspec": {
   "display_name": "Python (learn-env)",
   "language": "python",
   "name": "learn-env"
  },
  "language_info": {
   "codemirror_mode": {
    "name": "ipython",
    "version": 3
   },
   "file_extension": ".py",
   "mimetype": "text/x-python",
   "name": "python",
   "nbconvert_exporter": "python",
   "pygments_lexer": "ipython3",
   "version": "3.8.5"
  }
 },
 "nbformat": 4,
 "nbformat_minor": 5
}
