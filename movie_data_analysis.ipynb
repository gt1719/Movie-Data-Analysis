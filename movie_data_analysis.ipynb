{
 "cells": [
  {
   "cell_type": "markdown",
   "id": "61e9f5f4",
   "metadata": {},
   "source": [
    "# Table of Content"
   ]
  },
  {
   "cell_type": "markdown",
   "id": "2fafddc7",
   "metadata": {},
   "source": [
    "## Movie Data Analysis"
   ]
  },
  {
   "cell_type": "markdown",
   "id": "75a61208",
   "metadata": {},
   "source": [
    "> Business situation: Microsoft wants to start a film company."
   ]
  },
  {
   "cell_type": "markdown",
   "id": "0c32e305",
   "metadata": {},
   "source": [
    "## Load Data"
   ]
  },
  {
   "cell_type": "code",
   "execution_count": null,
   "id": "172dc43a",
   "metadata": {},
   "outputs": [],
   "source": [
    "# Todo"
   ]
  }
 ],
 "metadata": {
  "kernelspec": {
   "display_name": "Python (learn-env)",
   "language": "python",
   "name": "learn-env"
  }
 },
 "nbformat": 4,
 "nbformat_minor": 5
}
